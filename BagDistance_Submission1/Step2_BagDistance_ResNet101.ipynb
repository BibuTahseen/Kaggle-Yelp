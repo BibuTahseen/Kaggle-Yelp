{
 "cells": [
  {
   "cell_type": "markdown",
   "metadata": {},
   "source": [
    "# PART 2: Compute bag distance"
   ]
  },
  {
   "cell_type": "markdown",
   "metadata": {},
   "source": [
    "## Summary:#\n",
    "\n",
    "    Each business is viewed as a bag of features.\n",
    "    For each bag, we compute the Chamfer distance from it to every bag in the training set. \n",
    "       \n",
    "Ref:  Equation (8) in <a href=\"http://158.109.8.37/files/Amo2013.pdf#Page=14\">Amores' Survey paper</a>    "
   ]
  },
  {
   "cell_type": "markdown",
   "metadata": {},
   "source": [
    "## Distance Between Two Bags##\n",
    "\n",
    "Each instance is a 2048-dimension vector.\n",
    "\n",
    "Let $A,B$ be bags of instances. The Chamfer distance of $A$ and $B$ is defined as:\n",
    "\n",
    "$$ D(A,B) = \\frac{1}{|A|}\\sum_{a\\in A}\\min_{b\\in B}||a-b|| +\\frac{1}{|B|}\\sum_{b\\in B}\\min_{a\\in A}||a-b|| $$"
   ]
  },
  {
   "cell_type": "code",
   "execution_count": 1,
   "metadata": {
    "collapsed": true
   },
   "outputs": [],
   "source": [
    "from sklearn.metrics.pairwise import euclidean_distances\n",
    "def dist_bags(A,B):    \n",
    "    dists = euclidean_distances(A,B)\n",
    "    partA = np.sum(np.min(dists, axis=1))/A.shape[0]\n",
    "    partB = np.sum(np.min(dists, axis=0))/B.shape[0]\n",
    "    return partA+partB    "
   ]
  },
  {
   "cell_type": "markdown",
   "metadata": {},
   "source": [
    "## Compute mutual bag distances for bags in the training set ##"
   ]
  },
  {
   "cell_type": "markdown",
   "metadata": {},
   "source": [
    "#### Load image features####"
   ]
  },
  {
   "cell_type": "code",
   "execution_count": 2,
   "metadata": {
    "collapsed": false
   },
   "outputs": [
    {
     "name": "stdout",
     "output_type": "stream",
     "text": [
      "Number of business:  1996 (4 business with missing labels are dropped)\n",
      "\n",
      "Image features:  (234842, 2048)\n"
     ]
    }
   ],
   "source": [
    "data_root = '/home/ncchen/Kaggle-Yelp/input/'\n",
    "\n",
    "import numpy as np\n",
    "import pandas as pd \n",
    "import h5py\n",
    "import time\n",
    "\n",
    "train_photo_to_biz = pd.read_csv(data_root+'train_photo_to_biz_ids.csv')\n",
    "train_labels = pd.read_csv(data_root+'train.csv').dropna()\n",
    "train_labels['labels'] = train_labels['labels'].apply(lambda x: tuple(sorted(int(t) for t in x.split())))\n",
    "train_labels.set_index('business_id', inplace=True)\n",
    "trainbiz_ids = train_labels.index.unique()\n",
    "print \"Number of business: \", len(trainbiz_ids) ,   \"(4 business with missing labels are dropped)\\n\"\n",
    "\n",
    "## Load image features\n",
    "f = h5py.File(data_root+'train_image_Resfeatures.h5','r')\n",
    "train_image_ids= np.copy(f['photo_id'])\n",
    "train_image_features = np.copy(f['feature'])\n",
    "f.close()\n",
    "\n",
    "print \"Image features: \", train_image_features.shape"
   ]
  },
  {
   "cell_type": "markdown",
   "metadata": {},
   "source": [
    "#### For each business,  collect its bag of instance features #"
   ]
  },
  {
   "cell_type": "code",
   "execution_count": 3,
   "metadata": {
    "collapsed": false
   },
   "outputs": [],
   "source": [
    "train_bag={}\n",
    "for biz in trainbiz_ids:      \n",
    "    label = train_labels.loc[biz]['labels']\n",
    "    image_index = train_photo_to_biz[train_photo_to_biz['business_id']==biz].index.tolist()\n",
    "    features = train_image_features[image_index]\n",
    "    train_bag[biz] = features"
   ]
  },
  {
   "cell_type": "markdown",
   "metadata": {},
   "source": [
    "#### For every bag in the training set, compute its distance to every bag in the training set"
   ]
  },
  {
   "cell_type": "code",
   "execution_count": 4,
   "metadata": {
    "collapsed": false
   },
   "outputs": [
    {
     "name": "stdout",
     "output_type": "stream",
     "text": [
      "Bags processed: 200, Time passed: 429 seconds\n",
      "Bags processed: 400, Time passed: 789 seconds\n",
      "Bags processed: 600, Time passed: 1096 seconds\n",
      "Bags processed: 800, Time passed: 1366 seconds\n",
      "Bags processed: 1000, Time passed: 1598 seconds\n",
      "Bags processed: 1200, Time passed: 1788 seconds\n",
      "Bags processed: 1400, Time passed: 1936 seconds\n",
      "Bags processed: 1600, Time passed: 2037 seconds\n",
      "Bags processed: 1800, Time passed: 2101 seconds\n",
      "Bags processed: 1996, Time passed: 2119 seconds\n"
     ]
    }
   ],
   "source": [
    "train_bags_df = pd.DataFrame(columns=trainbiz_ids, index = trainbiz_ids)\n",
    "import time\n",
    "t1= time.time()\n",
    "count = 0 \n",
    "i=0\n",
    "j=0\n",
    "for i in range(len(trainbiz_ids)):\n",
    "    row = trainbiz_ids[i]\n",
    "    train_bags_df.loc[row][row]=0    \n",
    "    for j in range(len(trainbiz_ids)):\n",
    "        if j>i:\n",
    "            col = trainbiz_ids[j]\n",
    "            train_bags_df.loc[row][col] = dist_bags(train_bag[row],train_bag[col])\n",
    "            train_bags_df.loc[col][row] = train_bags_df.loc[row][col]       \n",
    "    count +=1\n",
    "    if count%200==0 or count==len(trainbiz_ids):\n",
    "        print 'Bags processed: %d, Time passed: %s seconds' % (count, \"{0:.0f}\".format(time.time()-t1))        "
   ]
  },
  {
   "cell_type": "markdown",
   "metadata": {},
   "source": [
    "#### Print the results."
   ]
  },
  {
   "cell_type": "code",
   "execution_count": 7,
   "metadata": {
    "collapsed": false
   },
   "outputs": [
    {
     "data": {
      "text/html": [
       "<div>\n",
       "<table border=\"1\" class=\"dataframe\">\n",
       "  <thead>\n",
       "    <tr style=\"text-align: right;\">\n",
       "      <th></th>\n",
       "      <th>1000</th>\n",
       "      <th>1001</th>\n",
       "      <th>100</th>\n",
       "      <th>1006</th>\n",
       "      <th>1010</th>\n",
       "      <th>101</th>\n",
       "      <th>1011</th>\n",
       "      <th>1012</th>\n",
       "      <th>1014</th>\n",
       "      <th>1015</th>\n",
       "      <th>...</th>\n",
       "      <th>982</th>\n",
       "      <th>985</th>\n",
       "      <th>988</th>\n",
       "      <th>989</th>\n",
       "      <th>99</th>\n",
       "      <th>991</th>\n",
       "      <th>993</th>\n",
       "      <th>997</th>\n",
       "      <th>998</th>\n",
       "      <th>999</th>\n",
       "    </tr>\n",
       "  </thead>\n",
       "  <tbody>\n",
       "    <tr>\n",
       "      <th>1000</th>\n",
       "      <td>0</td>\n",
       "      <td>43.635</td>\n",
       "      <td>38.7868</td>\n",
       "      <td>38.1584</td>\n",
       "      <td>37.5219</td>\n",
       "      <td>37.0114</td>\n",
       "      <td>37.3985</td>\n",
       "      <td>39.2988</td>\n",
       "      <td>40.6927</td>\n",
       "      <td>35.9434</td>\n",
       "      <td>...</td>\n",
       "      <td>38.9271</td>\n",
       "      <td>40.0304</td>\n",
       "      <td>42.0761</td>\n",
       "      <td>37.0212</td>\n",
       "      <td>36.2376</td>\n",
       "      <td>37.591</td>\n",
       "      <td>38.6389</td>\n",
       "      <td>40.5294</td>\n",
       "      <td>36.8481</td>\n",
       "      <td>37.5152</td>\n",
       "    </tr>\n",
       "    <tr>\n",
       "      <th>1001</th>\n",
       "      <td>43.635</td>\n",
       "      <td>0</td>\n",
       "      <td>42.2867</td>\n",
       "      <td>39.9622</td>\n",
       "      <td>40.8257</td>\n",
       "      <td>40.9876</td>\n",
       "      <td>38.9786</td>\n",
       "      <td>40.4867</td>\n",
       "      <td>43.1006</td>\n",
       "      <td>37.7113</td>\n",
       "      <td>...</td>\n",
       "      <td>40.1981</td>\n",
       "      <td>41.4028</td>\n",
       "      <td>43.7319</td>\n",
       "      <td>40.2264</td>\n",
       "      <td>40.7268</td>\n",
       "      <td>40.0207</td>\n",
       "      <td>37.7635</td>\n",
       "      <td>40.3887</td>\n",
       "      <td>38.345</td>\n",
       "      <td>40.087</td>\n",
       "    </tr>\n",
       "    <tr>\n",
       "      <th>100</th>\n",
       "      <td>38.7868</td>\n",
       "      <td>42.2867</td>\n",
       "      <td>0</td>\n",
       "      <td>36.5512</td>\n",
       "      <td>39.437</td>\n",
       "      <td>35.3241</td>\n",
       "      <td>36.6776</td>\n",
       "      <td>36.6791</td>\n",
       "      <td>38.341</td>\n",
       "      <td>35.854</td>\n",
       "      <td>...</td>\n",
       "      <td>38.5173</td>\n",
       "      <td>37.3074</td>\n",
       "      <td>41.1436</td>\n",
       "      <td>36.8412</td>\n",
       "      <td>35.9523</td>\n",
       "      <td>35.3644</td>\n",
       "      <td>38.4662</td>\n",
       "      <td>40.3305</td>\n",
       "      <td>36.5669</td>\n",
       "      <td>37.421</td>\n",
       "    </tr>\n",
       "    <tr>\n",
       "      <th>1006</th>\n",
       "      <td>38.1584</td>\n",
       "      <td>39.9622</td>\n",
       "      <td>36.5512</td>\n",
       "      <td>0</td>\n",
       "      <td>37.8729</td>\n",
       "      <td>35.9911</td>\n",
       "      <td>36.1379</td>\n",
       "      <td>37.8704</td>\n",
       "      <td>39.3629</td>\n",
       "      <td>35.7869</td>\n",
       "      <td>...</td>\n",
       "      <td>37.8669</td>\n",
       "      <td>36.0441</td>\n",
       "      <td>42.4736</td>\n",
       "      <td>35.6409</td>\n",
       "      <td>35.493</td>\n",
       "      <td>35.8046</td>\n",
       "      <td>37.2314</td>\n",
       "      <td>39.9787</td>\n",
       "      <td>36.3664</td>\n",
       "      <td>35.6067</td>\n",
       "    </tr>\n",
       "    <tr>\n",
       "      <th>1010</th>\n",
       "      <td>37.5219</td>\n",
       "      <td>40.8257</td>\n",
       "      <td>39.437</td>\n",
       "      <td>37.8729</td>\n",
       "      <td>0</td>\n",
       "      <td>37.2431</td>\n",
       "      <td>35.6252</td>\n",
       "      <td>37.494</td>\n",
       "      <td>40.498</td>\n",
       "      <td>36.3187</td>\n",
       "      <td>...</td>\n",
       "      <td>39.9483</td>\n",
       "      <td>38.9902</td>\n",
       "      <td>41.3535</td>\n",
       "      <td>35.6709</td>\n",
       "      <td>36.258</td>\n",
       "      <td>34.8482</td>\n",
       "      <td>37.9472</td>\n",
       "      <td>40.1095</td>\n",
       "      <td>35.956</td>\n",
       "      <td>38.3824</td>\n",
       "    </tr>\n",
       "  </tbody>\n",
       "</table>\n",
       "<p>5 rows × 1996 columns</p>\n",
       "</div>"
      ],
      "text/plain": [
       "         1000     1001     100      1006     1010     101      1011     1012  \\\n",
       "1000        0   43.635  38.7868  38.1584  37.5219  37.0114  37.3985  39.2988   \n",
       "1001   43.635        0  42.2867  39.9622  40.8257  40.9876  38.9786  40.4867   \n",
       "100   38.7868  42.2867        0  36.5512   39.437  35.3241  36.6776  36.6791   \n",
       "1006  38.1584  39.9622  36.5512        0  37.8729  35.9911  36.1379  37.8704   \n",
       "1010  37.5219  40.8257   39.437  37.8729        0  37.2431  35.6252   37.494   \n",
       "\n",
       "         1014     1015   ...        982      985      988      989      99    \\\n",
       "1000  40.6927  35.9434   ...     38.9271  40.0304  42.0761  37.0212  36.2376   \n",
       "1001  43.1006  37.7113   ...     40.1981  41.4028  43.7319  40.2264  40.7268   \n",
       "100    38.341   35.854   ...     38.5173  37.3074  41.1436  36.8412  35.9523   \n",
       "1006  39.3629  35.7869   ...     37.8669  36.0441  42.4736  35.6409   35.493   \n",
       "1010   40.498  36.3187   ...     39.9483  38.9902  41.3535  35.6709   36.258   \n",
       "\n",
       "         991      993      997      998      999   \n",
       "1000   37.591  38.6389  40.5294  36.8481  37.5152  \n",
       "1001  40.0207  37.7635  40.3887   38.345   40.087  \n",
       "100   35.3644  38.4662  40.3305  36.5669   37.421  \n",
       "1006  35.8046  37.2314  39.9787  36.3664  35.6067  \n",
       "1010  34.8482  37.9472  40.1095   35.956  38.3824  \n",
       "\n",
       "[5 rows x 1996 columns]"
      ]
     },
     "execution_count": 7,
     "metadata": {},
     "output_type": "execute_result"
    }
   ],
   "source": [
    "train_bags_df[0:5]"
   ]
  },
  {
   "cell_type": "code",
   "execution_count": 8,
   "metadata": {
    "collapsed": false
   },
   "outputs": [],
   "source": [
    "with open(data_root+\"train_bag_distance_ResFeatures.csv\",'w') as f:  \n",
    "    train_bags_df.to_csv(f,index=True)"
   ]
  },
  {
   "cell_type": "markdown",
   "metadata": {},
   "source": [
    "## Compute bag distances for bags in the test set ##"
   ]
  },
  {
   "cell_type": "markdown",
   "metadata": {},
   "source": [
    "#### Load image features from both training and test sets"
   ]
  },
  {
   "cell_type": "code",
   "execution_count": 5,
   "metadata": {
    "collapsed": false
   },
   "outputs": [
    {
     "name": "stdout",
     "output_type": "stream",
     "text": [
      "Number of test business:  10000\n"
     ]
    }
   ],
   "source": [
    "data_root = '/home/ncchen/Kaggle-Yelp/input/'\n",
    "\n",
    "import numpy as np\n",
    "import pandas as pd \n",
    "import h5py\n",
    "import time\n",
    "\n",
    "\n",
    "train_photo_to_biz = pd.read_csv(data_root+'train_photo_to_biz_ids.csv')\n",
    "train_labels = pd.read_csv(data_root+'train.csv').dropna()\n",
    "train_labels['labels'] = train_labels['labels'].apply(lambda x: tuple(sorted(int(t) for t in x.split())))\n",
    "train_labels.set_index('business_id', inplace=True)\n",
    "trainbiz_ids = train_labels.index.unique()\n",
    "## Load train-image features\n",
    "f = h5py.File(data_root+'train_image_Resfeatures.h5','r')\n",
    "train_image_ids= np.copy(f['photo_id'])\n",
    "train_image_features = np.copy(f['feature'])\n",
    "f.close()\n",
    "\n",
    "test_photo_to_biz = pd.read_csv(data_root+'test_photo_to_biz.csv')\n",
    "testbiz_ids = test_photo_to_biz['business_id'].unique()\n",
    "\n",
    "## Load test-image features\n",
    "f = h5py.File(data_root+'test_image_Resfeatures.h5','r')\n",
    "test_image_ids = list(np.copy(f['photo_id']))\n",
    "test_image_ids = [int(name.split('/')[-1][:-4]) for name in test_image_ids]  #remove the full path and the str \".jpg\"\n",
    "test_image_features = np.copy(f['feature'])\n",
    "f.close()\n",
    "print \"Number of test business: \", len(testbiz_ids)"
   ]
  },
  {
   "cell_type": "markdown",
   "metadata": {},
   "source": [
    "#### For each bag in the test set, compute its distance to each bag in the training set."
   ]
  },
  {
   "cell_type": "code",
   "execution_count": 6,
   "metadata": {
    "collapsed": false
   },
   "outputs": [
    {
     "name": "stdout",
     "output_type": "stream",
     "text": [
      "Bags processed: 1000, Time passed: 2196 seconds\n",
      "Bags processed: 2000, Time passed: 4827 seconds\n",
      "Bags processed: 3000, Time passed: 7389 seconds\n",
      "Bags processed: 4000, Time passed: 10240 seconds\n",
      "Bags processed: 5000, Time passed: 13080 seconds\n",
      "Bags processed: 6000, Time passed: 15804 seconds\n",
      "Bags processed: 7000, Time passed: 18579 seconds\n",
      "Bags processed: 8000, Time passed: 21315 seconds\n",
      "Bags processed: 9000, Time passed: 24086 seconds\n",
      "Bags processed: 10000, Time passed: 26968 seconds\n"
     ]
    }
   ],
   "source": [
    "test_bags_df = pd.DataFrame(columns=trainbiz_ids, index = testbiz_ids)\n",
    "import time\n",
    "t1= time.time()\n",
    "count = 0 \n",
    "i=0\n",
    "j=0\n",
    "for i in range(len(testbiz_ids)):\n",
    "    row = testbiz_ids[i]\n",
    "    image_ids = test_photo_to_biz[test_photo_to_biz['business_id']==row]['photo_id'].tolist()  \n",
    "    image_index = [test_image_ids.index(x) for x in image_ids]           \n",
    "    test_bag= test_image_features[image_index]\n",
    "    for j in range(len(trainbiz_ids)):\n",
    "        col = trainbiz_ids[j]\n",
    "        test_bags_df.loc[row][col] = dist_bags(test_bag,train_bag[col])      \n",
    "    count +=1\n",
    "    if count%1000==0 or count==len(testbiz_ids):\n",
    "        print 'Bags processed: %d, Time passed: %s seconds' % (count, \"{0:.0f}\".format(time.time()-t1))       "
   ]
  },
  {
   "cell_type": "code",
   "execution_count": 7,
   "metadata": {
    "collapsed": false
   },
   "outputs": [
    {
     "data": {
      "text/html": [
       "<div>\n",
       "<table border=\"1\" class=\"dataframe\">\n",
       "  <thead>\n",
       "    <tr style=\"text-align: right;\">\n",
       "      <th></th>\n",
       "      <th>1000</th>\n",
       "      <th>1001</th>\n",
       "      <th>100</th>\n",
       "      <th>1006</th>\n",
       "      <th>1010</th>\n",
       "      <th>101</th>\n",
       "      <th>1011</th>\n",
       "      <th>1012</th>\n",
       "      <th>1014</th>\n",
       "      <th>1015</th>\n",
       "      <th>...</th>\n",
       "      <th>982</th>\n",
       "      <th>985</th>\n",
       "      <th>988</th>\n",
       "      <th>989</th>\n",
       "      <th>99</th>\n",
       "      <th>991</th>\n",
       "      <th>993</th>\n",
       "      <th>997</th>\n",
       "      <th>998</th>\n",
       "      <th>999</th>\n",
       "    </tr>\n",
       "  </thead>\n",
       "  <tbody>\n",
       "    <tr>\n",
       "      <th>003sg</th>\n",
       "      <td>37.3192</td>\n",
       "      <td>38.6761</td>\n",
       "      <td>36.4388</td>\n",
       "      <td>36.1272</td>\n",
       "      <td>36.1035</td>\n",
       "      <td>35.667</td>\n",
       "      <td>34.8266</td>\n",
       "      <td>36.0612</td>\n",
       "      <td>38.3432</td>\n",
       "      <td>34.8344</td>\n",
       "      <td>...</td>\n",
       "      <td>37.4554</td>\n",
       "      <td>36.5954</td>\n",
       "      <td>39.7357</td>\n",
       "      <td>35.3395</td>\n",
       "      <td>35.0505</td>\n",
       "      <td>35.0547</td>\n",
       "      <td>35.6809</td>\n",
       "      <td>38.2772</td>\n",
       "      <td>35.0722</td>\n",
       "      <td>36.0168</td>\n",
       "    </tr>\n",
       "    <tr>\n",
       "      <th>00er5</th>\n",
       "      <td>37.4025</td>\n",
       "      <td>38.959</td>\n",
       "      <td>36.4132</td>\n",
       "      <td>36.6614</td>\n",
       "      <td>35.6592</td>\n",
       "      <td>35.859</td>\n",
       "      <td>35.2402</td>\n",
       "      <td>36.2395</td>\n",
       "      <td>38.1755</td>\n",
       "      <td>35.1803</td>\n",
       "      <td>...</td>\n",
       "      <td>37.3321</td>\n",
       "      <td>37.4789</td>\n",
       "      <td>39.1052</td>\n",
       "      <td>35.7292</td>\n",
       "      <td>35.4402</td>\n",
       "      <td>35.2169</td>\n",
       "      <td>35.9398</td>\n",
       "      <td>38.3872</td>\n",
       "      <td>35.7211</td>\n",
       "      <td>36.4379</td>\n",
       "    </tr>\n",
       "    <tr>\n",
       "      <th>00kad</th>\n",
       "      <td>38.305</td>\n",
       "      <td>38.5915</td>\n",
       "      <td>37.3864</td>\n",
       "      <td>36.9925</td>\n",
       "      <td>36.6515</td>\n",
       "      <td>36.5316</td>\n",
       "      <td>35.9556</td>\n",
       "      <td>37.7083</td>\n",
       "      <td>39.9014</td>\n",
       "      <td>35.8804</td>\n",
       "      <td>...</td>\n",
       "      <td>37.726</td>\n",
       "      <td>37.6514</td>\n",
       "      <td>40.6317</td>\n",
       "      <td>36.2247</td>\n",
       "      <td>36.0693</td>\n",
       "      <td>36.1183</td>\n",
       "      <td>36.601</td>\n",
       "      <td>38.8725</td>\n",
       "      <td>36.5032</td>\n",
       "      <td>37.1432</td>\n",
       "    </tr>\n",
       "    <tr>\n",
       "      <th>00mc6</th>\n",
       "      <td>40.5048</td>\n",
       "      <td>42.7541</td>\n",
       "      <td>39.5418</td>\n",
       "      <td>40.1939</td>\n",
       "      <td>39.0241</td>\n",
       "      <td>38.9807</td>\n",
       "      <td>38.2188</td>\n",
       "      <td>40.1663</td>\n",
       "      <td>42.5303</td>\n",
       "      <td>39.2206</td>\n",
       "      <td>...</td>\n",
       "      <td>40.3932</td>\n",
       "      <td>41.4542</td>\n",
       "      <td>42.5933</td>\n",
       "      <td>38.8546</td>\n",
       "      <td>38.4171</td>\n",
       "      <td>39.7271</td>\n",
       "      <td>40.1835</td>\n",
       "      <td>41.1038</td>\n",
       "      <td>38.3295</td>\n",
       "      <td>40.259</td>\n",
       "    </tr>\n",
       "    <tr>\n",
       "      <th>00q7x</th>\n",
       "      <td>39.7721</td>\n",
       "      <td>42.271</td>\n",
       "      <td>39.0635</td>\n",
       "      <td>38.3774</td>\n",
       "      <td>37.6874</td>\n",
       "      <td>37.4987</td>\n",
       "      <td>37.6337</td>\n",
       "      <td>38.843</td>\n",
       "      <td>40.1378</td>\n",
       "      <td>36.9648</td>\n",
       "      <td>...</td>\n",
       "      <td>39.1877</td>\n",
       "      <td>38.9009</td>\n",
       "      <td>41.8175</td>\n",
       "      <td>37.9562</td>\n",
       "      <td>36.998</td>\n",
       "      <td>37.3905</td>\n",
       "      <td>37.9149</td>\n",
       "      <td>40.5239</td>\n",
       "      <td>38.234</td>\n",
       "      <td>38.0665</td>\n",
       "    </tr>\n",
       "  </tbody>\n",
       "</table>\n",
       "<p>5 rows × 1996 columns</p>\n",
       "</div>"
      ],
      "text/plain": [
       "          1000     1001     100      1006     1010     101      1011     1012  \\\n",
       "003sg  37.3192  38.6761  36.4388  36.1272  36.1035   35.667  34.8266  36.0612   \n",
       "00er5  37.4025   38.959  36.4132  36.6614  35.6592   35.859  35.2402  36.2395   \n",
       "00kad   38.305  38.5915  37.3864  36.9925  36.6515  36.5316  35.9556  37.7083   \n",
       "00mc6  40.5048  42.7541  39.5418  40.1939  39.0241  38.9807  38.2188  40.1663   \n",
       "00q7x  39.7721   42.271  39.0635  38.3774  37.6874  37.4987  37.6337   38.843   \n",
       "\n",
       "          1014     1015   ...        982      985      988      989      99    \\\n",
       "003sg  38.3432  34.8344   ...     37.4554  36.5954  39.7357  35.3395  35.0505   \n",
       "00er5  38.1755  35.1803   ...     37.3321  37.4789  39.1052  35.7292  35.4402   \n",
       "00kad  39.9014  35.8804   ...      37.726  37.6514  40.6317  36.2247  36.0693   \n",
       "00mc6  42.5303  39.2206   ...     40.3932  41.4542  42.5933  38.8546  38.4171   \n",
       "00q7x  40.1378  36.9648   ...     39.1877  38.9009  41.8175  37.9562   36.998   \n",
       "\n",
       "          991      993      997      998      999   \n",
       "003sg  35.0547  35.6809  38.2772  35.0722  36.0168  \n",
       "00er5  35.2169  35.9398  38.3872  35.7211  36.4379  \n",
       "00kad  36.1183   36.601  38.8725  36.5032  37.1432  \n",
       "00mc6  39.7271  40.1835  41.1038  38.3295   40.259  \n",
       "00q7x  37.3905  37.9149  40.5239   38.234  38.0665  \n",
       "\n",
       "[5 rows x 1996 columns]"
      ]
     },
     "execution_count": 7,
     "metadata": {},
     "output_type": "execute_result"
    }
   ],
   "source": [
    "test_bags_df[0:5]"
   ]
  },
  {
   "cell_type": "code",
   "execution_count": 8,
   "metadata": {
    "collapsed": true
   },
   "outputs": [],
   "source": [
    "with open(data_root+\"test_bag_distance_ResFeatures.csv\",'w') as f:  \n",
    "    test_bags_df.to_csv(f,index=True)"
   ]
  }
 ],
 "metadata": {
  "kernelspec": {
   "display_name": "Python 2",
   "language": "python",
   "name": "python2"
  },
  "language_info": {
   "codemirror_mode": {
    "name": "ipython",
    "version": 2
   },
   "file_extension": ".py",
   "mimetype": "text/x-python",
   "name": "python",
   "nbconvert_exporter": "python",
   "pygments_lexer": "ipython2",
   "version": "2.7.11"
  }
 },
 "nbformat": 4,
 "nbformat_minor": 0
}
