{
 "cells": [
  {
   "cell_type": "code",
   "execution_count": 1,
   "metadata": {
    "collapsed": false
   },
   "outputs": [
    {
     "name": "stdout",
     "output_type": "stream",
     "text": [
      "   business_id         labels\n",
      "0         1000  1 2 3 4 5 6 7\n",
      "1         1001        0 1 6 8\n",
      "2          100    1 2 4 5 6 7\n",
      "3         1006      1 2 4 5 6\n",
      "4         1010          0 6 8\n"
     ]
    }
   ],
   "source": [
    "import numpy as np \n",
    "import pandas as pd \n",
    "\n",
    "# Load training data\n",
    "train_data = pd.read_csv('../input/train.csv')\n",
    "print train_data[0:5]"
   ]
  },
  {
   "cell_type": "code",
   "execution_count": 2,
   "metadata": {
    "collapsed": false
   },
   "outputs": [
    {
     "name": "stdout",
     "output_type": "stream",
     "text": [
      "   business_id         labels  num_labels\n",
      "0         1000  1 2 3 4 5 6 7           7\n",
      "1         1001        0 1 6 8           4\n",
      "2          100    1 2 4 5 6 7           6\n",
      "3         1006      1 2 4 5 6           5\n",
      "4         1010          0 6 8           3\n",
      "\n",
      " Average number of labels:  4.3295\n"
     ]
    }
   ],
   "source": [
    "# Count the number of labels \n",
    "for i in range(len(train_data)):\n",
    "   if pd.isnull(train_data.at[i,'labels']):\n",
    "        train_data.at[i,'num_labels'] = 0\n",
    "   else: \n",
    "        train_data.at[i,'num_labels'] = len(train_data.at[i,'labels'].replace(' ',''))\n",
    "print train_data[0:5]\n",
    "print \"\\n Average number of labels: \", train_data['num_labels'].mean()"
   ]
  },
  {
   "cell_type": "code",
   "execution_count": 3,
   "metadata": {
    "collapsed": false
   },
   "outputs": [
    {
     "name": "stdout",
     "output_type": "stream",
     "text": [
      "  business_id   labels\n",
      "0       003sg  6 1 0 5\n",
      "1       00er5  8 5 6 7\n",
      "2       00kad  2 4 6 1\n",
      "3       00mc6  6 4 5 3\n",
      "4       00q7x  8 0 5 3\n"
     ]
    }
   ],
   "source": [
    "#Random guess: randomly pick 4 labels \n",
    "new_submission = pd.read_csv('../input/sample_submission.csv')\n",
    "for i in range(len(new_submission)):\n",
    "        new_submission.at[i,'labels'] = str(np.random.choice(9,4,replace=False)).strip('[]')\n",
    "\n",
    "print new_submission[0:5]"
   ]
  },
  {
   "cell_type": "code",
   "execution_count": 4,
   "metadata": {
    "collapsed": true
   },
   "outputs": [],
   "source": [
    "# Write to submission file\n",
    "new_submission.to_csv('../input/random_guess.csv',index=False)"
   ]
  }
 ],
 "metadata": {
  "kernelspec": {
   "display_name": "Python 2",
   "language": "python",
   "name": "python2"
  },
  "language_info": {
   "codemirror_mode": {
    "name": "ipython",
    "version": 2
   },
   "file_extension": ".py",
   "mimetype": "text/x-python",
   "name": "python",
   "nbconvert_exporter": "python",
   "pygments_lexer": "ipython2",
   "version": "2.7.11"
  }
 },
 "nbformat": 4,
 "nbformat_minor": 0
}
